{
 "cells": [
  {
   "cell_type": "markdown",
   "metadata": {},
   "source": [
    "# Arise Application Challenge\n",
    "---"
   ]
  },
  {
   "cell_type": "markdown",
   "metadata": {},
   "source": [
    "Please answer the questions shown below by completing the code within this notebook and filling in your final answers in the respective block of the arise Challenge Answers form. "
   ]
  },
  {
   "cell_type": "markdown",
   "metadata": {},
   "source": [
    "---"
   ]
  },
  {
   "cell_type": "markdown",
   "metadata": {},
   "source": [
    "### Step 1 (this step does not have an answer in the answer form)"
   ]
  },
  {
   "cell_type": "markdown",
   "metadata": {},
   "source": [
    "Please import the Pandas package. You will need to install the package if you do not already have them (`hint - google anaconda install pandas`)."
   ]
  },
  {
   "cell_type": "code",
   "execution_count": 2,
   "metadata": {},
   "outputs": [],
   "source": [
    "# Add your code for Question 1 in this code block\n",
    "import pandas as pd"
   ]
  },
  {
   "cell_type": "markdown",
   "metadata": {},
   "source": [
    "---"
   ]
  },
  {
   "cell_type": "markdown",
   "metadata": {},
   "source": [
    "### Step 2 (this step does not have an answer in the answer form)"
   ]
  },
  {
   "cell_type": "markdown",
   "metadata": {},
   "source": [
    "Use Pandas to read in the csv titled `application_data.csv` as a Panda's dataframe. Once you have read in the data as a dataframe use Panda's `head()` function to show an overview of the data."
   ]
  },
  {
   "cell_type": "code",
   "execution_count": 3,
   "metadata": {},
   "outputs": [
    {
     "data": {
      "text/html": [
       "<div>\n",
       "<style scoped>\n",
       "    .dataframe tbody tr th:only-of-type {\n",
       "        vertical-align: middle;\n",
       "    }\n",
       "\n",
       "    .dataframe tbody tr th {\n",
       "        vertical-align: top;\n",
       "    }\n",
       "\n",
       "    .dataframe thead th {\n",
       "        text-align: right;\n",
       "    }\n",
       "</style>\n",
       "<table border=\"1\" class=\"dataframe\">\n",
       "  <thead>\n",
       "    <tr style=\"text-align: right;\">\n",
       "      <th></th>\n",
       "      <th>customerID</th>\n",
       "      <th>loanId</th>\n",
       "      <th>appilcationDate</th>\n",
       "      <th>LoanNumber</th>\n",
       "      <th>LoanAmount</th>\n",
       "      <th>InterestRate</th>\n",
       "      <th>TermDays</th>\n",
       "      <th>repaymentDueDate</th>\n",
       "      <th>repaymentPaidDate</th>\n",
       "    </tr>\n",
       "  </thead>\n",
       "  <tbody>\n",
       "    <tr>\n",
       "      <th>0</th>\n",
       "      <td>839247458</td>\n",
       "      <td>302953235622</td>\n",
       "      <td>2018-12-21</td>\n",
       "      <td>1</td>\n",
       "      <td>7500.0</td>\n",
       "      <td>30.0</td>\n",
       "      <td>30</td>\n",
       "      <td>2019-01-20</td>\n",
       "      <td>2019-01-16</td>\n",
       "    </tr>\n",
       "    <tr>\n",
       "      <th>1</th>\n",
       "      <td>217540860</td>\n",
       "      <td>302960101337</td>\n",
       "      <td>2018-12-23</td>\n",
       "      <td>1</td>\n",
       "      <td>7500.0</td>\n",
       "      <td>30.0</td>\n",
       "      <td>30</td>\n",
       "      <td>2019-01-22</td>\n",
       "      <td>2018-12-29</td>\n",
       "    </tr>\n",
       "    <tr>\n",
       "      <th>2</th>\n",
       "      <td>522238092</td>\n",
       "      <td>303016988846</td>\n",
       "      <td>2019-01-08</td>\n",
       "      <td>1</td>\n",
       "      <td>7500.0</td>\n",
       "      <td>30.0</td>\n",
       "      <td>30</td>\n",
       "      <td>2019-02-07</td>\n",
       "      <td>2019-01-08</td>\n",
       "    </tr>\n",
       "    <tr>\n",
       "      <th>3</th>\n",
       "      <td>096754469</td>\n",
       "      <td>302999605504</td>\n",
       "      <td>2019-01-04</td>\n",
       "      <td>1</td>\n",
       "      <td>7500.0</td>\n",
       "      <td>30.0</td>\n",
       "      <td>30</td>\n",
       "      <td>2019-02-03</td>\n",
       "      <td>2019-01-08</td>\n",
       "    </tr>\n",
       "    <tr>\n",
       "      <th>4</th>\n",
       "      <td>410354345</td>\n",
       "      <td>302951945878</td>\n",
       "      <td>2018-12-21</td>\n",
       "      <td>1</td>\n",
       "      <td>7500.0</td>\n",
       "      <td>30.0</td>\n",
       "      <td>30</td>\n",
       "      <td>2019-01-20</td>\n",
       "      <td>2019-01-17</td>\n",
       "    </tr>\n",
       "    <tr>\n",
       "      <th>5</th>\n",
       "      <td>027610141</td>\n",
       "      <td>302955854172</td>\n",
       "      <td>2018-12-22</td>\n",
       "      <td>6</td>\n",
       "      <td>45000.0</td>\n",
       "      <td>10.0</td>\n",
       "      <td>90</td>\n",
       "      <td>2019-03-21</td>\n",
       "      <td>2019-01-09</td>\n",
       "    </tr>\n",
       "    <tr>\n",
       "      <th>6</th>\n",
       "      <td>390748423</td>\n",
       "      <td>302941689535</td>\n",
       "      <td>2018-12-19</td>\n",
       "      <td>4</td>\n",
       "      <td>90000.0</td>\n",
       "      <td>5.0</td>\n",
       "      <td>180</td>\n",
       "      <td>2019-06-18</td>\n",
       "      <td>2019-01-15</td>\n",
       "    </tr>\n",
       "    <tr>\n",
       "      <th>7</th>\n",
       "      <td>642947351</td>\n",
       "      <td>302945727970</td>\n",
       "      <td>2018-12-19</td>\n",
       "      <td>3</td>\n",
       "      <td>45000.0</td>\n",
       "      <td>10.0</td>\n",
       "      <td>90</td>\n",
       "      <td>2019-03-19</td>\n",
       "      <td>2019-01-16</td>\n",
       "    </tr>\n",
       "    <tr>\n",
       "      <th>8</th>\n",
       "      <td>227382168</td>\n",
       "      <td>302953081988</td>\n",
       "      <td>2018-12-21</td>\n",
       "      <td>4</td>\n",
       "      <td>45000.0</td>\n",
       "      <td>10.0</td>\n",
       "      <td>90</td>\n",
       "      <td>2019-03-20</td>\n",
       "      <td>2019-01-16</td>\n",
       "    </tr>\n",
       "    <tr>\n",
       "      <th>9</th>\n",
       "      <td>380684555</td>\n",
       "      <td>302997991362</td>\n",
       "      <td>2019-01-03</td>\n",
       "      <td>4</td>\n",
       "      <td>30000.0</td>\n",
       "      <td>10.0</td>\n",
       "      <td>90</td>\n",
       "      <td>2019-04-02</td>\n",
       "      <td>2019-01-11</td>\n",
       "    </tr>\n",
       "    <tr>\n",
       "      <th>10</th>\n",
       "      <td>538656471</td>\n",
       "      <td>302906015723</td>\n",
       "      <td>2018-12-10</td>\n",
       "      <td>1</td>\n",
       "      <td>13500.0</td>\n",
       "      <td>18.0</td>\n",
       "      <td>45</td>\n",
       "      <td>2019-01-24</td>\n",
       "      <td>2019-01-07</td>\n",
       "    </tr>\n",
       "    <tr>\n",
       "      <th>11</th>\n",
       "      <td>067501201</td>\n",
       "      <td>302955909012</td>\n",
       "      <td>2018-12-22</td>\n",
       "      <td>4</td>\n",
       "      <td>19000.0</td>\n",
       "      <td>15.0</td>\n",
       "      <td>60</td>\n",
       "      <td>2019-02-21</td>\n",
       "      <td>2019-01-14</td>\n",
       "    </tr>\n",
       "    <tr>\n",
       "      <th>12</th>\n",
       "      <td>779403451</td>\n",
       "      <td>302941503245</td>\n",
       "      <td>2018-12-19</td>\n",
       "      <td>4</td>\n",
       "      <td>59500.0</td>\n",
       "      <td>7.5</td>\n",
       "      <td>180</td>\n",
       "      <td>2019-06-18</td>\n",
       "      <td>2019-01-16</td>\n",
       "    </tr>\n",
       "    <tr>\n",
       "      <th>13</th>\n",
       "      <td>706745423</td>\n",
       "      <td>302942096687</td>\n",
       "      <td>2018-12-19</td>\n",
       "      <td>1</td>\n",
       "      <td>32000.0</td>\n",
       "      <td>7.5</td>\n",
       "      <td>180</td>\n",
       "      <td>2019-06-18</td>\n",
       "      <td>2019-01-04</td>\n",
       "    </tr>\n",
       "    <tr>\n",
       "      <th>14</th>\n",
       "      <td>175032099</td>\n",
       "      <td>302948765318</td>\n",
       "      <td>2018-12-20</td>\n",
       "      <td>1</td>\n",
       "      <td>8000.0</td>\n",
       "      <td>36.0</td>\n",
       "      <td>45</td>\n",
       "      <td>2019-02-03</td>\n",
       "      <td>2018-12-23</td>\n",
       "    </tr>\n",
       "    <tr>\n",
       "      <th>15</th>\n",
       "      <td>756846529</td>\n",
       "      <td>302943137882</td>\n",
       "      <td>2018-12-19</td>\n",
       "      <td>7</td>\n",
       "      <td>16000.0</td>\n",
       "      <td>20.0</td>\n",
       "      <td>60</td>\n",
       "      <td>2019-02-18</td>\n",
       "      <td>2018-12-21</td>\n",
       "    </tr>\n",
       "  </tbody>\n",
       "</table>\n",
       "</div>"
      ],
      "text/plain": [
       "   customerID        loanId appilcationDate  LoanNumber  LoanAmount  \\\n",
       "0   839247458  302953235622      2018-12-21           1      7500.0   \n",
       "1   217540860  302960101337      2018-12-23           1      7500.0   \n",
       "2   522238092  303016988846      2019-01-08           1      7500.0   \n",
       "3   096754469  302999605504      2019-01-04           1      7500.0   \n",
       "4   410354345  302951945878      2018-12-21           1      7500.0   \n",
       "5   027610141  302955854172      2018-12-22           6     45000.0   \n",
       "6   390748423  302941689535      2018-12-19           4     90000.0   \n",
       "7   642947351  302945727970      2018-12-19           3     45000.0   \n",
       "8   227382168  302953081988      2018-12-21           4     45000.0   \n",
       "9   380684555  302997991362      2019-01-03           4     30000.0   \n",
       "10  538656471  302906015723      2018-12-10           1     13500.0   \n",
       "11  067501201  302955909012      2018-12-22           4     19000.0   \n",
       "12  779403451  302941503245      2018-12-19           4     59500.0   \n",
       "13  706745423  302942096687      2018-12-19           1     32000.0   \n",
       "14  175032099  302948765318      2018-12-20           1      8000.0   \n",
       "15  756846529  302943137882      2018-12-19           7     16000.0   \n",
       "\n",
       "    InterestRate  TermDays repaymentDueDate repaymentPaidDate  \n",
       "0           30.0        30       2019-01-20        2019-01-16  \n",
       "1           30.0        30       2019-01-22        2018-12-29  \n",
       "2           30.0        30       2019-02-07        2019-01-08  \n",
       "3           30.0        30       2019-02-03        2019-01-08  \n",
       "4           30.0        30       2019-01-20        2019-01-17  \n",
       "5           10.0        90       2019-03-21        2019-01-09  \n",
       "6            5.0       180       2019-06-18        2019-01-15  \n",
       "7           10.0        90       2019-03-19        2019-01-16  \n",
       "8           10.0        90       2019-03-20        2019-01-16  \n",
       "9           10.0        90       2019-04-02        2019-01-11  \n",
       "10          18.0        45       2019-01-24        2019-01-07  \n",
       "11          15.0        60       2019-02-21        2019-01-14  \n",
       "12           7.5       180       2019-06-18        2019-01-16  \n",
       "13           7.5       180       2019-06-18        2019-01-04  \n",
       "14          36.0        45       2019-02-03        2018-12-23  \n",
       "15          20.0        60       2019-02-18        2018-12-21  "
      ]
     },
     "execution_count": 3,
     "metadata": {},
     "output_type": "execute_result"
    }
   ],
   "source": [
    "# Add your code for Question 2 in this code block\n",
    "data = pd.read_csv(\"application_data.csv\")\n",
    "data.head(16)"
   ]
  },
  {
   "cell_type": "markdown",
   "metadata": {},
   "source": [
    "You should now be able to see that the dataset contains information relating to loans that have been disbursed. Each row of the data is specific to a particular loan and displays the customer's ID that took out the loan, a unique loan ID, the date when the client applied for the loan, the loan number of the specific loan (how many loans the client has now taken out), the amount, interest rate, term days, the date when the loan repayment was due and the date the loan was actually repaid."
   ]
  },
  {
   "cell_type": "markdown",
   "metadata": {},
   "source": [
    "---"
   ]
  },
  {
   "cell_type": "markdown",
   "metadata": {},
   "source": [
    "### Question 1"
   ]
  },
  {
   "cell_type": "markdown",
   "metadata": {},
   "source": [
    "Convert `appilcationDate`, `repaymentDueDate` and `repaymentPaidDate` in the dataframes to datetimes. "
   ]
  },
  {
   "cell_type": "code",
   "execution_count": 4,
   "metadata": {},
   "outputs": [
    {
     "data": {
      "text/plain": [
       "(0     2018-12-21\n",
       " 1     2018-12-23\n",
       " 2     2019-01-08\n",
       " 3     2019-01-04\n",
       " 4     2018-12-21\n",
       "          ...    \n",
       " 995   2018-01-15\n",
       " 996   2018-02-13\n",
       " 997   2018-01-03\n",
       " 998   2018-11-19\n",
       " 999   2018-01-24\n",
       " Name: appilcationDate, Length: 1000, dtype: datetime64[ns],\n",
       " 0     2019-01-20\n",
       " 1     2019-01-22\n",
       " 2     2019-02-07\n",
       " 3     2019-02-03\n",
       " 4     2019-01-20\n",
       "          ...    \n",
       " 995   2018-02-14\n",
       " 996   2018-03-15\n",
       " 997   2018-02-02\n",
       " 998   2018-12-19\n",
       " 999   2018-02-24\n",
       " Name: repaymentDueDate, Length: 1000, dtype: datetime64[ns],\n",
       " 0     2019-01-16\n",
       " 1     2018-12-29\n",
       " 2     2019-01-08\n",
       " 3     2019-01-08\n",
       " 4     2019-01-17\n",
       "          ...    \n",
       " 995   2018-01-20\n",
       " 996   2018-03-14\n",
       " 997   2018-10-12\n",
       " 998   2018-12-17\n",
       " 999   2018-02-11\n",
       " Name: repaymentPaidDate, Length: 1000, dtype: datetime64[ns])"
      ]
     },
     "execution_count": 4,
     "metadata": {},
     "output_type": "execute_result"
    }
   ],
   "source": [
    "# convert to dates\n",
    "data_1 = pd.to_datetime(data.appilcationDate)\n",
    "data_2 = pd.to_datetime(data.repaymentDueDate)\n",
    "data_3 = pd.to_datetime(data.repaymentPaidDate)\n",
    "((data_1),(data_2),(data_3))"
   ]
  },
  {
   "cell_type": "code",
   "execution_count": 5,
   "metadata": {},
   "outputs": [
    {
     "data": {
      "text/plain": [
       "dtype('<M8[ns]')"
      ]
     },
     "execution_count": 5,
     "metadata": {},
     "output_type": "execute_result"
    }
   ],
   "source": [
    "data_1.dtype\n",
    "data_2.dtype\n",
    "data_3.dtype"
   ]
  },
  {
   "cell_type": "markdown",
   "metadata": {},
   "source": [
    "Now that the dates have been converted, How many `unique`data types are contained within the application dataset?"
   ]
  },
  {
   "cell_type": "code",
   "execution_count": 6,
   "metadata": {},
   "outputs": [
    {
     "data": {
      "text/plain": [
       "3"
      ]
     },
     "execution_count": 6,
     "metadata": {},
     "output_type": "execute_result"
    }
   ],
   "source": [
    "# data types\n",
    "len(data.dtypes.unique())"
   ]
  },
  {
   "cell_type": "markdown",
   "metadata": {},
   "source": [
    "### Question 2"
   ]
  },
  {
   "cell_type": "markdown",
   "metadata": {},
   "source": [
    "Please calculate the `average` loan amount, interest rate and termdays for all the loans in the dataset? `Round` all number to two decimal places."
   ]
  },
  {
   "cell_type": "code",
   "execution_count": 7,
   "metadata": {},
   "outputs": [
    {
     "data": {
      "text/plain": [
       "13828.08"
      ]
     },
     "execution_count": 7,
     "metadata": {},
     "output_type": "execute_result"
    }
   ],
   "source": [
    "# 2a avg loan amount\n",
    "amt = data.LoanAmount\n",
    "amt.mean().round(2)"
   ]
  },
  {
   "cell_type": "code",
   "execution_count": 8,
   "metadata": {},
   "outputs": [
    {
     "data": {
      "text/plain": [
       "23.06"
      ]
     },
     "execution_count": 8,
     "metadata": {},
     "output_type": "execute_result"
    }
   ],
   "source": [
    "# 2b avg interest rate\n",
    "intrst_rt = data.InterestRate\n",
    "intrst_rt.mean().round(2)"
   ]
  },
  {
   "cell_type": "code",
   "execution_count": 9,
   "metadata": {},
   "outputs": [
    {
     "data": {
      "text/plain": [
       "42.08"
      ]
     },
     "execution_count": 9,
     "metadata": {},
     "output_type": "execute_result"
    }
   ],
   "source": [
    "# 2c avg term days \n",
    "trm_days = data.TermDays\n",
    "trm_days.mean().round(2)"
   ]
  },
  {
   "cell_type": "markdown",
   "metadata": {},
   "source": [
    "---"
   ]
  },
  {
   "cell_type": "markdown",
   "metadata": {},
   "source": [
    "### Question 3"
   ]
  },
  {
   "cell_type": "markdown",
   "metadata": {},
   "source": [
    "Please create a new column called `dateDifference` which needs to contains the number of days between when the loan was repaid and when it was due to be repaid. \n",
    "\n",
    "Count the number of loans that were paid more than 3 days late. This can be done by first creating a dataframe only containing the loans that were paid more than 3 days late. "
   ]
  },
  {
   "cell_type": "code",
   "execution_count": 10,
   "metadata": {},
   "outputs": [
    {
     "data": {
      "text/html": [
       "<div>\n",
       "<style scoped>\n",
       "    .dataframe tbody tr th:only-of-type {\n",
       "        vertical-align: middle;\n",
       "    }\n",
       "\n",
       "    .dataframe tbody tr th {\n",
       "        vertical-align: top;\n",
       "    }\n",
       "\n",
       "    .dataframe thead th {\n",
       "        text-align: right;\n",
       "    }\n",
       "</style>\n",
       "<table border=\"1\" class=\"dataframe\">\n",
       "  <thead>\n",
       "    <tr style=\"text-align: right;\">\n",
       "      <th></th>\n",
       "      <th>customerID</th>\n",
       "      <th>loanId</th>\n",
       "      <th>appilcationDate</th>\n",
       "      <th>LoanNumber</th>\n",
       "      <th>LoanAmount</th>\n",
       "      <th>InterestRate</th>\n",
       "      <th>TermDays</th>\n",
       "      <th>repaymentDueDate</th>\n",
       "      <th>repaymentPaidDate</th>\n",
       "      <th>dateDifference</th>\n",
       "    </tr>\n",
       "  </thead>\n",
       "  <tbody>\n",
       "    <tr>\n",
       "      <th>0</th>\n",
       "      <td>839247458</td>\n",
       "      <td>302953235622</td>\n",
       "      <td>2018-12-21</td>\n",
       "      <td>1</td>\n",
       "      <td>7500.0</td>\n",
       "      <td>30.0</td>\n",
       "      <td>30</td>\n",
       "      <td>2019-01-20</td>\n",
       "      <td>2019-01-16</td>\n",
       "      <td>4 days</td>\n",
       "    </tr>\n",
       "    <tr>\n",
       "      <th>1</th>\n",
       "      <td>217540860</td>\n",
       "      <td>302960101337</td>\n",
       "      <td>2018-12-23</td>\n",
       "      <td>1</td>\n",
       "      <td>7500.0</td>\n",
       "      <td>30.0</td>\n",
       "      <td>30</td>\n",
       "      <td>2019-01-22</td>\n",
       "      <td>2018-12-29</td>\n",
       "      <td>24 days</td>\n",
       "    </tr>\n",
       "    <tr>\n",
       "      <th>2</th>\n",
       "      <td>522238092</td>\n",
       "      <td>303016988846</td>\n",
       "      <td>2019-01-08</td>\n",
       "      <td>1</td>\n",
       "      <td>7500.0</td>\n",
       "      <td>30.0</td>\n",
       "      <td>30</td>\n",
       "      <td>2019-02-07</td>\n",
       "      <td>2019-01-08</td>\n",
       "      <td>30 days</td>\n",
       "    </tr>\n",
       "    <tr>\n",
       "      <th>3</th>\n",
       "      <td>096754469</td>\n",
       "      <td>302999605504</td>\n",
       "      <td>2019-01-04</td>\n",
       "      <td>1</td>\n",
       "      <td>7500.0</td>\n",
       "      <td>30.0</td>\n",
       "      <td>30</td>\n",
       "      <td>2019-02-03</td>\n",
       "      <td>2019-01-08</td>\n",
       "      <td>26 days</td>\n",
       "    </tr>\n",
       "    <tr>\n",
       "      <th>4</th>\n",
       "      <td>410354345</td>\n",
       "      <td>302951945878</td>\n",
       "      <td>2018-12-21</td>\n",
       "      <td>1</td>\n",
       "      <td>7500.0</td>\n",
       "      <td>30.0</td>\n",
       "      <td>30</td>\n",
       "      <td>2019-01-20</td>\n",
       "      <td>2019-01-17</td>\n",
       "      <td>3 days</td>\n",
       "    </tr>\n",
       "    <tr>\n",
       "      <th>5</th>\n",
       "      <td>027610141</td>\n",
       "      <td>302955854172</td>\n",
       "      <td>2018-12-22</td>\n",
       "      <td>6</td>\n",
       "      <td>45000.0</td>\n",
       "      <td>10.0</td>\n",
       "      <td>90</td>\n",
       "      <td>2019-03-21</td>\n",
       "      <td>2019-01-09</td>\n",
       "      <td>71 days</td>\n",
       "    </tr>\n",
       "    <tr>\n",
       "      <th>6</th>\n",
       "      <td>390748423</td>\n",
       "      <td>302941689535</td>\n",
       "      <td>2018-12-19</td>\n",
       "      <td>4</td>\n",
       "      <td>90000.0</td>\n",
       "      <td>5.0</td>\n",
       "      <td>180</td>\n",
       "      <td>2019-06-18</td>\n",
       "      <td>2019-01-15</td>\n",
       "      <td>154 days</td>\n",
       "    </tr>\n",
       "    <tr>\n",
       "      <th>7</th>\n",
       "      <td>642947351</td>\n",
       "      <td>302945727970</td>\n",
       "      <td>2018-12-19</td>\n",
       "      <td>3</td>\n",
       "      <td>45000.0</td>\n",
       "      <td>10.0</td>\n",
       "      <td>90</td>\n",
       "      <td>2019-03-19</td>\n",
       "      <td>2019-01-16</td>\n",
       "      <td>62 days</td>\n",
       "    </tr>\n",
       "    <tr>\n",
       "      <th>8</th>\n",
       "      <td>227382168</td>\n",
       "      <td>302953081988</td>\n",
       "      <td>2018-12-21</td>\n",
       "      <td>4</td>\n",
       "      <td>45000.0</td>\n",
       "      <td>10.0</td>\n",
       "      <td>90</td>\n",
       "      <td>2019-03-20</td>\n",
       "      <td>2019-01-16</td>\n",
       "      <td>63 days</td>\n",
       "    </tr>\n",
       "    <tr>\n",
       "      <th>9</th>\n",
       "      <td>380684555</td>\n",
       "      <td>302997991362</td>\n",
       "      <td>2019-01-03</td>\n",
       "      <td>4</td>\n",
       "      <td>30000.0</td>\n",
       "      <td>10.0</td>\n",
       "      <td>90</td>\n",
       "      <td>2019-04-02</td>\n",
       "      <td>2019-01-11</td>\n",
       "      <td>81 days</td>\n",
       "    </tr>\n",
       "    <tr>\n",
       "      <th>10</th>\n",
       "      <td>538656471</td>\n",
       "      <td>302906015723</td>\n",
       "      <td>2018-12-10</td>\n",
       "      <td>1</td>\n",
       "      <td>13500.0</td>\n",
       "      <td>18.0</td>\n",
       "      <td>45</td>\n",
       "      <td>2019-01-24</td>\n",
       "      <td>2019-01-07</td>\n",
       "      <td>17 days</td>\n",
       "    </tr>\n",
       "  </tbody>\n",
       "</table>\n",
       "</div>"
      ],
      "text/plain": [
       "   customerID        loanId appilcationDate  LoanNumber  LoanAmount  \\\n",
       "0   839247458  302953235622      2018-12-21           1      7500.0   \n",
       "1   217540860  302960101337      2018-12-23           1      7500.0   \n",
       "2   522238092  303016988846      2019-01-08           1      7500.0   \n",
       "3   096754469  302999605504      2019-01-04           1      7500.0   \n",
       "4   410354345  302951945878      2018-12-21           1      7500.0   \n",
       "5   027610141  302955854172      2018-12-22           6     45000.0   \n",
       "6   390748423  302941689535      2018-12-19           4     90000.0   \n",
       "7   642947351  302945727970      2018-12-19           3     45000.0   \n",
       "8   227382168  302953081988      2018-12-21           4     45000.0   \n",
       "9   380684555  302997991362      2019-01-03           4     30000.0   \n",
       "10  538656471  302906015723      2018-12-10           1     13500.0   \n",
       "\n",
       "    InterestRate  TermDays repaymentDueDate repaymentPaidDate dateDifference  \n",
       "0           30.0        30       2019-01-20        2019-01-16         4 days  \n",
       "1           30.0        30       2019-01-22        2018-12-29        24 days  \n",
       "2           30.0        30       2019-02-07        2019-01-08        30 days  \n",
       "3           30.0        30       2019-02-03        2019-01-08        26 days  \n",
       "4           30.0        30       2019-01-20        2019-01-17         3 days  \n",
       "5           10.0        90       2019-03-21        2019-01-09        71 days  \n",
       "6            5.0       180       2019-06-18        2019-01-15       154 days  \n",
       "7           10.0        90       2019-03-19        2019-01-16        62 days  \n",
       "8           10.0        90       2019-03-20        2019-01-16        63 days  \n",
       "9           10.0        90       2019-04-02        2019-01-11        81 days  \n",
       "10          18.0        45       2019-01-24        2019-01-07        17 days  "
      ]
     },
     "execution_count": 10,
     "metadata": {},
     "output_type": "execute_result"
    }
   ],
   "source": [
    "# date difference\n",
    "#refer to question 1 for the definition of the variables\n",
    "data[\"dateDifference\"] = data_2 - data_3\n",
    "data.head(11)"
   ]
  },
  {
   "cell_type": "code",
   "execution_count": 11,
   "metadata": {},
   "outputs": [
    {
     "name": "stdout",
     "output_type": "stream",
     "text": [
      "183 were more than 3 days late\n"
     ]
    }
   ],
   "source": [
    "# number of loans more than 3 days late\n",
    "count = 0\n",
    "#converted to timedelta because timedelta could only operate on timedelta\n",
    "date_count = pd.to_timedelta(-3)\n",
    "for index in data.dateDifference:\n",
    "       if index < date_count:\n",
    "            count +=1\n",
    "print(f\"{count} were more than 3 days late\")"
   ]
  },
  {
   "cell_type": "markdown",
   "metadata": {},
   "source": [
    "---"
   ]
  },
  {
   "cell_type": "markdown",
   "metadata": {},
   "source": [
    "### Question 4"
   ]
  },
  {
   "cell_type": "markdown",
   "metadata": {},
   "source": [
    "Please group the dataset by `TermDays` and calculate the `mean` loan amount and the `standard deviation` of loan amount within each term.\n",
    "\n",
    "What is the mean loan amount in 30-day loans and what is the standard deviation of  loan amount in 90-day loans? Please give your answers to the nearest two decimal places. "
   ]
  },
  {
   "cell_type": "code",
   "execution_count": 13,
   "metadata": {},
   "outputs": [
    {
     "name": "stdout",
     "output_type": "stream",
     "text": [
      "customerID                      inf\n",
      "loanId                          inf\n",
      "LoanNumber                   2.1375\n",
      "LoanAmount                  7941.96\n",
      "InterestRate                28.5621\n",
      "TermDays                         30\n",
      "dateDifference    -2 days +02:24:00\n",
      "dtype: object\n"
     ]
    }
   ],
   "source": [
    "# mean loan amount in 30-day loans and standard deviation of loan amount in 90-day loans\n",
    "grouped_term_days = data.groupby(\"TermDays\")\n",
    "for term_day, loan_amount in grouped_term_days:\n",
    "    if term_day == 30:\n",
    "        print(loan_amount.mean())"
   ]
  },
  {
   "cell_type": "code",
   "execution_count": 190,
   "metadata": {},
   "outputs": [
    {
     "name": "stdout",
     "output_type": "stream",
     "text": [
      "LoanNumber                        2.89106\n",
      "LoanAmount                        18050.1\n",
      "InterestRate                      2.18096\n",
      "TermDays                                0\n",
      "dateDifference    13 days 12:38:42.267342\n",
      "dtype: object\n"
     ]
    }
   ],
   "source": [
    "#standard deviation of loan amount in 90-day loans\n",
    "grouped_term_days = data.groupby(\"TermDays\")\n",
    "for term_day, loan_amount in grouped_term_days:\n",
    "    if term_day == 90:\n",
    "            print(loan_amount.std())"
   ]
  },
  {
   "cell_type": "code",
   "execution_count": null,
   "metadata": {},
   "outputs": [],
   "source": [
    "#for i in data.TermDays == 30:\n",
    "#        print(i)"
   ]
  },
  {
   "cell_type": "markdown",
   "metadata": {},
   "source": [
    "--- "
   ]
  },
  {
   "cell_type": "markdown",
   "metadata": {},
   "source": [
    "### Question 5"
   ]
  },
  {
   "cell_type": "markdown",
   "metadata": {},
   "source": [
    "`Late` loans are defined as loans that were paid `more than 3 days` after their due date. Please find the average number of days that these loans were paid beyond their due date for each `week of the year`. This will require you to break all `appilcationDate's` down into the week of the year they were made and then perform a group by. \n",
    "\n",
    "What is the average number of days that `late` loans applied for in the second week of the year were paid late? Please sumbit your answer rounded to two decimal places. "
   ]
  },
  {
   "cell_type": "code",
   "execution_count": 1,
   "metadata": {},
   "outputs": [
    {
     "ename": "NameError",
     "evalue": "name 'data' is not defined",
     "output_type": "error",
     "traceback": [
      "\u001b[0;31m---------------------------------------------------------------------------\u001b[0m",
      "\u001b[0;31mNameError\u001b[0m                                 Traceback (most recent call last)",
      "\u001b[0;32m<ipython-input-1-ab751eaf93ee>\u001b[0m in \u001b[0;36m<module>\u001b[0;34m\u001b[0m\n\u001b[1;32m      1\u001b[0m \u001b[0;31m# week of year and average number of late days\u001b[0m\u001b[0;34m\u001b[0m\u001b[0;34m\u001b[0m\u001b[0;34m\u001b[0m\u001b[0m\n\u001b[0;32m----> 2\u001b[0;31m \u001b[0mlate_payment\u001b[0m \u001b[0;34m=\u001b[0m \u001b[0mdata\u001b[0m\u001b[0;34m[\u001b[0m\u001b[0;34m\"dateDifference\"\u001b[0m\u001b[0;34m]\u001b[0m\u001b[0;34m\u001b[0m\u001b[0;34m\u001b[0m\u001b[0m\n\u001b[0m\u001b[1;32m      3\u001b[0m \u001b[0mlate_payment\u001b[0m\u001b[0;34m[\u001b[0m\u001b[0;34m\"week\"\u001b[0m\u001b[0;34m]\u001b[0m \u001b[0;34m=\u001b[0m \u001b[0mlatepayment\u001b[0m\u001b[0;34m.\u001b[0m\u001b[0mdateDifference\u001b[0m\u001b[0;34m.\u001b[0m\u001b[0mdt\u001b[0m\u001b[0;34m.\u001b[0m\u001b[0mweek\u001b[0m\u001b[0;34m\u001b[0m\u001b[0;34m\u001b[0m\u001b[0m\n\u001b[1;32m      4\u001b[0m \u001b[0mlate_payment\u001b[0m\u001b[0;34m.\u001b[0m\u001b[0mhead\u001b[0m\u001b[0;34m(\u001b[0m\u001b[0;34m)\u001b[0m\u001b[0;34m\u001b[0m\u001b[0;34m\u001b[0m\u001b[0m\n\u001b[1;32m      5\u001b[0m \u001b[0;34m\u001b[0m\u001b[0m\n",
      "\u001b[0;31mNameError\u001b[0m: name 'data' is not defined"
     ]
    }
   ],
   "source": [
    "# week of year and average number of late days\n",
    "late_payment = data[\"dateDifference\"]\n",
    "late_payment[\"week\"] = latepayment.dateDifference.dt.week\n",
    "late_payment.head()\n",
    "\n"
   ]
  },
  {
   "cell_type": "markdown",
   "metadata": {},
   "source": [
    "---"
   ]
  },
  {
   "cell_type": "markdown",
   "metadata": {},
   "source": [
    "### The End"
   ]
  },
  {
   "cell_type": "markdown",
   "metadata": {},
   "source": [
    "Thank you for completing the challenge. Please make sure you have submitted all of your answers to the arise Challenge Answers form. "
   ]
  }
 ],
 "metadata": {
  "kernelspec": {
   "display_name": "Python 3",
   "language": "python",
   "name": "python3"
  },
  "language_info": {
   "codemirror_mode": {
    "name": "ipython",
    "version": 3
   },
   "file_extension": ".py",
   "mimetype": "text/x-python",
   "name": "python",
   "nbconvert_exporter": "python",
   "pygments_lexer": "ipython3",
   "version": "3.6.9"
  }
 },
 "nbformat": 4,
 "nbformat_minor": 2
}
